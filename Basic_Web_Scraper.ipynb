{
  "nbformat": 4,
  "nbformat_minor": 0,
  "metadata": {
    "colab": {
      "provenance": [],
      "include_colab_link": true
    },
    "kernelspec": {
      "name": "python3",
      "display_name": "Python 3"
    },
    "language_info": {
      "name": "python"
    }
  },
  "cells": [
    {
      "cell_type": "markdown",
      "metadata": {
        "id": "view-in-github",
        "colab_type": "text"
      },
      "source": [
        "<a href=\"https://colab.research.google.com/github/ajaythakur3369/Innovixion-Tech-Internship/blob/main/Basic_Web_Scraper.ipynb\" target=\"_parent\"><img src=\"https://colab.research.google.com/assets/colab-badge.svg\" alt=\"Open In Colab\"/></a>"
      ]
    },
    {
      "cell_type": "markdown",
      "source": [
        "# **Project Name - Basic Web Scraper**\n",
        "## **Developed By - Ajay Thakur (ajaythakur3369@gmail.com)**\n",
        "## **Branch Name - Electronics and Communication Engineering**\n",
        "## **Institute Name - Indian Institute of Information Technology Kota**\n",
        "## **Submitted To - Innovixion Tech**\n",
        "## **Project Link (GitHub) - [Click here](https://github.com/ajaythakur3369/Innovixion-Tech-Internship)**"
      ],
      "metadata": {
        "id": "AQHyYt5_Jqi5"
      }
    },
    {
      "cell_type": "markdown",
      "source": [
        "# **Problem Statement -**"
      ],
      "metadata": {
        "id": "xzHD2IBiJ_x8"
      }
    },
    {
      "cell_type": "markdown",
      "source": [
        "Develop a simple web scraper that extracts information from a website and presents it in a structured format.\n",
        "\n",
        "**url -** https://www.amazon.in/s?i=stripbooks&bbn=976389031&rh=n%3A976389031%2Cp_85%3A10440599031%2Cp_n_availability%3A1318484031&pf_rd_i=976389031&pf_rd_m=A1VBAL9TL5WCBF&pf_rd_p=d9156ff5-f4fe-4d30-acc4-be8a85626096&pf_rd_r=RPJ07AB4GA6NNQH82SE9&pf_rd_s=merchandised-search-4&ref=AF_WIN_bub_w_cml_t_1\n",
        "\n",
        "**Dataset -** https://github.com/gayatrifegde/Innovixion-Tech/blob/main/Task_1/AmazonScrape.csv\n",
        "\n",
        "https://github.com/gayatrifegde/Innovixion-Tech/blob/main/Task_1/AmazonScrapeFinal.csv"
      ],
      "metadata": {
        "id": "8NVMtWeVKIbn"
      }
    },
    {
      "cell_type": "markdown",
      "source": [
        "# **Let's Begin !**"
      ],
      "metadata": {
        "id": "PD82IJhbJ_1-"
      }
    },
    {
      "cell_type": "code",
      "execution_count": null,
      "metadata": {
        "id": "HiYFe-j0zLp6"
      },
      "outputs": [],
      "source": [
        "# Importing all necessary libraries\n",
        "import requests as re\n",
        "from bs4 import BeautifulSoup\n",
        "import datetime\n",
        "import pandas as pd\n",
        "import warnings\n",
        "warnings.filterwarnings('ignore')"
      ]
    },
    {
      "cell_type": "code",
      "source": [
        "# Fetching all the required data as HTML\n",
        "url = 'https://www.amazon.in/s?i=stripbooks&bbn=976389031&rh=n%3A976389031%2Cp_85%3A10440599031%2Cp_n_availability%3A1318484031&pf_rd_i=976389031&pf_rd_m=A1VBAL9TL5WCBF&pf_rd_p=d9156ff5-f4fe-4d30-acc4-be8a85626096&pf_rd_r=RPJ07AB4GA6NNQH82SE9&pf_rd_s=merchandised-search-4&ref=AF_WIN_bub_w_cml_t_1'\n",
        "\n",
        "headers = {\"User-Agent\": \"Mozilla/5.0 (Windows NT 10.0; Win64; x64) AppleWebKit/537.36 (KHTML, like Gecko) Chrome/115.0.0.0 Safari/537.36 Edg/115.0.1901.203\"}\n",
        "webpage = re.get(url, headers = headers)\n",
        "\n",
        "# Use 'html.parser' instead of 'lxml'\n",
        "soup = BeautifulSoup(webpage.content, 'html.parser')\n",
        "\n",
        "link_title = \"a-size-medium a-color-base a-text-normal\"\n",
        "link_price = \"a-price-whole\""
      ],
      "metadata": {
        "id": "mha6NfyQzQY0"
      },
      "execution_count": null,
      "outputs": []
    },
    {
      "cell_type": "code",
      "source": [
        "# Locating specific tags and attributes\n",
        "title = soup.find_all('span', class_=link_title)  # 'class_' instead of 'attrs'\n",
        "price = soup.find_all('span', class_=link_price)\n",
        "\n",
        "# Extracting text from the elements\n",
        "title_texts = [title.get_text() for title in title]\n",
        "price_texts = [price.get_text() for price in price]\n",
        "\n",
        "# Printing the titles and prices\n",
        "for title, price in zip(title_texts, price_texts):\n",
        "    print(\"Title:\", title)\n",
        "    print(\"Price:\", price)\n",
        "    print()"
      ],
      "metadata": {
        "id": "BjkCY8Z6K6PI"
      },
      "execution_count": null,
      "outputs": []
    },
    {
      "cell_type": "code",
      "source": [
        "# Assuming price contains a ResultSet object from BeautifulSoup\n",
        "price_lst = [cost.get_text(strip=True) for cost in price]\n",
        "\n",
        "print(price_lst)\n",
        "\n",
        "# Assuming title contains a ResultSet object from BeautifulSoup\n",
        "title_lst = [title.get_text(strip=True) for title in title]\n",
        "\n",
        "print(title_lst)"
      ],
      "metadata": {
        "colab": {
          "base_uri": "https://localhost:8080/"
        },
        "id": "Hi_pb8gsQgjA",
        "outputId": "55f539bb-f17c-4b0b-d4a5-9b4c226c75b6"
      },
      "execution_count": null,
      "outputs": [
        {
          "output_type": "stream",
          "name": "stdout",
          "text": [
            "[]\n",
            "[]\n"
          ]
        }
      ]
    },
    {
      "cell_type": "code",
      "source": [
        "# Creating a dictionary with 2 lists that were scraped previously\n",
        "dict = {title_lst[key] : price_lst[key] for key in range(len(title_lst))}\n",
        "dict"
      ],
      "metadata": {
        "colab": {
          "base_uri": "https://localhost:8080/"
        },
        "id": "GmYeBOJczQft",
        "outputId": "af48a019-62d8-42cd-a46b-e087de2ebfbd"
      },
      "execution_count": null,
      "outputs": [
        {
          "output_type": "execute_result",
          "data": {
            "text/plain": [
              "{}"
            ]
          },
          "metadata": {},
          "execution_count": 60
        }
      ]
    },
    {
      "cell_type": "code",
      "source": [
        "# Obtaining the date using DateTime\n",
        "today = datetime.date.today()"
      ],
      "metadata": {
        "id": "z0C_fQOizQjm"
      },
      "execution_count": null,
      "outputs": []
    },
    {
      "cell_type": "code",
      "source": [
        "# Access the drive from Colab to access the file\n",
        "from google.colab import drive\n",
        "drive.mount('/content/drive/')"
      ],
      "metadata": {
        "colab": {
          "base_uri": "https://localhost:8080/"
        },
        "id": "_qA_9rxglXJv",
        "outputId": "9445b2b1-88cb-4a9e-c569-bcfd9f6a2a72"
      },
      "execution_count": null,
      "outputs": [
        {
          "output_type": "stream",
          "name": "stdout",
          "text": [
            "Drive already mounted at /content/drive/; to attempt to forcibly remount, call drive.mount(\"/content/drive/\", force_remount=True).\n"
          ]
        }
      ]
    },
    {
      "cell_type": "code",
      "source": [
        "# Writing the data into a CSV file\n",
        "import csv\n",
        "heading = ['Date','Product', 'Price']\n",
        "data = [today, title_lst, price_lst]\n",
        "\n",
        "# Writing the headings into a CSV file\n",
        "with open('/content/drive/MyDrive/Colab_Notebook/Internship_Name/Innovixion_Tech/File_Name/Sales_dataset.csv', 'w', newline = '', encoding = 'UTF8') as c:\n",
        "    csvwriter = csv.writer(c)\n",
        "    csvwriter.writerow(heading)"
      ],
      "metadata": {
        "id": "98YydeyczQna"
      },
      "execution_count": null,
      "outputs": []
    },
    {
      "cell_type": "code",
      "source": [
        "# Appending all the values into the CSV file\n",
        "with open('/content/drive/MyDrive/Colab_Notebook/Internship_Name/Innovixion_Tech/File_Name/Sales_dataset.csv', 'a+', newline = '', encoding = 'UTF8') as c:\n",
        "    for key, value in dict.items():\n",
        "        data = [today, key, value]\n",
        "        csvwriter = csv.writer(c)\n",
        "        csvwriter.writerow(data)"
      ],
      "metadata": {
        "id": "js-fbzMpzQqr"
      },
      "execution_count": null,
      "outputs": []
    },
    {
      "cell_type": "code",
      "source": [
        "df = pd.read_csv(\"/content/drive/MyDrive/Colab_Notebook/Internship_Name/Innovixion_Tech/File_Name/Sales_dataset.csv\")\n",
        "df.head()"
      ],
      "metadata": {
        "colab": {
          "base_uri": "https://localhost:8080/",
          "height": 53
        },
        "id": "0WYFfDk6ziu4",
        "outputId": "8a582a02-d34f-4132-9284-45c1ef048ea4"
      },
      "execution_count": null,
      "outputs": [
        {
          "output_type": "execute_result",
          "data": {
            "text/plain": [
              "Empty DataFrame\n",
              "Columns: [Date, Product, Price]\n",
              "Index: []"
            ],
            "text/html": [
              "\n",
              "  <div id=\"df-260e375e-76b7-4b22-991b-5522648d2dc7\" class=\"colab-df-container\">\n",
              "    <div>\n",
              "<style scoped>\n",
              "    .dataframe tbody tr th:only-of-type {\n",
              "        vertical-align: middle;\n",
              "    }\n",
              "\n",
              "    .dataframe tbody tr th {\n",
              "        vertical-align: top;\n",
              "    }\n",
              "\n",
              "    .dataframe thead th {\n",
              "        text-align: right;\n",
              "    }\n",
              "</style>\n",
              "<table border=\"1\" class=\"dataframe\">\n",
              "  <thead>\n",
              "    <tr style=\"text-align: right;\">\n",
              "      <th></th>\n",
              "      <th>Date</th>\n",
              "      <th>Product</th>\n",
              "      <th>Price</th>\n",
              "    </tr>\n",
              "  </thead>\n",
              "  <tbody>\n",
              "  </tbody>\n",
              "</table>\n",
              "</div>\n",
              "    <div class=\"colab-df-buttons\">\n",
              "\n",
              "  <div class=\"colab-df-container\">\n",
              "    <button class=\"colab-df-convert\" onclick=\"convertToInteractive('df-260e375e-76b7-4b22-991b-5522648d2dc7')\"\n",
              "            title=\"Convert this dataframe to an interactive table.\"\n",
              "            style=\"display:none;\">\n",
              "\n",
              "  <svg xmlns=\"http://www.w3.org/2000/svg\" height=\"24px\" viewBox=\"0 -960 960 960\">\n",
              "    <path d=\"M120-120v-720h720v720H120Zm60-500h600v-160H180v160Zm220 220h160v-160H400v160Zm0 220h160v-160H400v160ZM180-400h160v-160H180v160Zm440 0h160v-160H620v160ZM180-180h160v-160H180v160Zm440 0h160v-160H620v160Z\"/>\n",
              "  </svg>\n",
              "    </button>\n",
              "\n",
              "  <style>\n",
              "    .colab-df-container {\n",
              "      display:flex;\n",
              "      gap: 12px;\n",
              "    }\n",
              "\n",
              "    .colab-df-convert {\n",
              "      background-color: #E8F0FE;\n",
              "      border: none;\n",
              "      border-radius: 50%;\n",
              "      cursor: pointer;\n",
              "      display: none;\n",
              "      fill: #1967D2;\n",
              "      height: 32px;\n",
              "      padding: 0 0 0 0;\n",
              "      width: 32px;\n",
              "    }\n",
              "\n",
              "    .colab-df-convert:hover {\n",
              "      background-color: #E2EBFA;\n",
              "      box-shadow: 0px 1px 2px rgba(60, 64, 67, 0.3), 0px 1px 3px 1px rgba(60, 64, 67, 0.15);\n",
              "      fill: #174EA6;\n",
              "    }\n",
              "\n",
              "    .colab-df-buttons div {\n",
              "      margin-bottom: 4px;\n",
              "    }\n",
              "\n",
              "    [theme=dark] .colab-df-convert {\n",
              "      background-color: #3B4455;\n",
              "      fill: #D2E3FC;\n",
              "    }\n",
              "\n",
              "    [theme=dark] .colab-df-convert:hover {\n",
              "      background-color: #434B5C;\n",
              "      box-shadow: 0px 1px 3px 1px rgba(0, 0, 0, 0.15);\n",
              "      filter: drop-shadow(0px 1px 2px rgba(0, 0, 0, 0.3));\n",
              "      fill: #FFFFFF;\n",
              "    }\n",
              "  </style>\n",
              "\n",
              "    <script>\n",
              "      const buttonEl =\n",
              "        document.querySelector('#df-260e375e-76b7-4b22-991b-5522648d2dc7 button.colab-df-convert');\n",
              "      buttonEl.style.display =\n",
              "        google.colab.kernel.accessAllowed ? 'block' : 'none';\n",
              "\n",
              "      async function convertToInteractive(key) {\n",
              "        const element = document.querySelector('#df-260e375e-76b7-4b22-991b-5522648d2dc7');\n",
              "        const dataTable =\n",
              "          await google.colab.kernel.invokeFunction('convertToInteractive',\n",
              "                                                    [key], {});\n",
              "        if (!dataTable) return;\n",
              "\n",
              "        const docLinkHtml = 'Like what you see? Visit the ' +\n",
              "          '<a target=\"_blank\" href=https://colab.research.google.com/notebooks/data_table.ipynb>data table notebook</a>'\n",
              "          + ' to learn more about interactive tables.';\n",
              "        element.innerHTML = '';\n",
              "        dataTable['output_type'] = 'display_data';\n",
              "        await google.colab.output.renderOutput(dataTable, element);\n",
              "        const docLink = document.createElement('div');\n",
              "        docLink.innerHTML = docLinkHtml;\n",
              "        element.appendChild(docLink);\n",
              "      }\n",
              "    </script>\n",
              "  </div>\n",
              "\n",
              "\n",
              "    </div>\n",
              "  </div>\n"
            ],
            "application/vnd.google.colaboratory.intrinsic+json": {
              "type": "dataframe",
              "variable_name": "df",
              "repr_error": "Out of range float values are not JSON compliant: nan"
            }
          },
          "metadata": {},
          "execution_count": 65
        }
      ]
    },
    {
      "cell_type": "code",
      "source": [
        "# Apply the regular expression only to non-null string values\n",
        "df['Price'] = df['Price'].apply(lambda x: re.sub(r'\\n', '', x) if isinstance(x, str) else x)\n",
        "\n",
        "# Apply the regular expression to remove spaces from each element in the 'Price' column\n",
        "df['Price'] = df['Price'].apply(lambda x: re.sub(r'\\s+', '', x) if isinstance(x, str) else x)\n"
      ],
      "metadata": {
        "id": "gwWZfBxSSHkN"
      },
      "execution_count": null,
      "outputs": []
    },
    {
      "cell_type": "code",
      "source": [
        "df.Price"
      ],
      "metadata": {
        "colab": {
          "base_uri": "https://localhost:8080/"
        },
        "id": "mRBNpOfczi80",
        "outputId": "07a582dd-550c-41b9-8baa-4edc65c5fba2"
      },
      "execution_count": null,
      "outputs": [
        {
          "output_type": "execute_result",
          "data": {
            "text/plain": [
              "Series([], Name: Price, dtype: object)"
            ]
          },
          "metadata": {},
          "execution_count": 67
        }
      ]
    },
    {
      "cell_type": "code",
      "source": [
        "df.to_string"
      ],
      "metadata": {
        "colab": {
          "base_uri": "https://localhost:8080/",
          "height": 290
        },
        "id": "zY6t7cntzjPQ",
        "outputId": "b7fe639d-71aa-4d84-a864-4355832e179f"
      },
      "execution_count": null,
      "outputs": [
        {
          "output_type": "execute_result",
          "data": {
            "text/plain": [
              "<bound method DataFrame.to_string of Empty DataFrame\n",
              "Columns: [Date, Product, Price]\n",
              "Index: []>"
            ],
            "text/html": [
              "<div style=\"max-width:800px; border: 1px solid var(--colab-border-color);\"><style>\n",
              "      pre.function-repr-contents {\n",
              "        overflow-x: auto;\n",
              "        padding: 8px 12px;\n",
              "        max-height: 500px;\n",
              "      }\n",
              "\n",
              "      pre.function-repr-contents.function-repr-contents-collapsed {\n",
              "        cursor: pointer;\n",
              "        max-height: 100px;\n",
              "      }\n",
              "    </style>\n",
              "    <pre style=\"white-space: initial; background:\n",
              "         var(--colab-secondary-surface-color); padding: 8px 12px;\n",
              "         border-bottom: 1px solid var(--colab-border-color);\"><b>pandas.core.frame.DataFrame.to_string</b><br/>def to_string(buf: FilePath | WriteBuffer[str] | None=None, columns: Sequence[str] | None=None, col_space: int | list[int] | dict[Hashable, int] | None=None, header: bool | Sequence[str]=True, index: bool=True, na_rep: str=&#x27;NaN&#x27;, formatters: fmt.FormattersType | None=None, float_format: fmt.FloatFormatType | None=None, sparsify: bool | None=None, index_names: bool=True, justify: str | None=None, max_rows: int | None=None, max_cols: int | None=None, show_dimensions: bool=False, decimal: str=&#x27;.&#x27;, line_width: int | None=None, min_rows: int | None=None, max_colwidth: int | None=None, encoding: str | None=None) -&gt; str | None</pre><pre class=\"function-repr-contents function-repr-contents-collapsed\" style=\"\"><a class=\"filepath\" style=\"display:none\" href=\"#\">/usr/local/lib/python3.10/dist-packages/pandas/core/frame.py</a>Render a DataFrame to a console-friendly tabular output.\n",
              "\n",
              "Parameters\n",
              "----------\n",
              "buf : str, Path or StringIO-like, optional, default None\n",
              "    Buffer to write to. If None, the output is returned as a string.\n",
              "columns : sequence, optional, default None\n",
              "    The subset of columns to write. Writes all columns by default.\n",
              "col_space : int, list or dict of int, optional\n",
              "    The minimum width of each column. If a list of ints is given every integers corresponds with one column. If a dict is given, the key references the column, while the value defines the space to use..\n",
              "header : bool or sequence of str, optional\n",
              "    Write out the column names. If a list of strings is given, it is assumed to be aliases for the column names.\n",
              "index : bool, optional, default True\n",
              "    Whether to print index (row) labels.\n",
              "na_rep : str, optional, default &#x27;NaN&#x27;\n",
              "    String representation of ``NaN`` to use.\n",
              "formatters : list, tuple or dict of one-param. functions, optional\n",
              "    Formatter functions to apply to columns&#x27; elements by position or\n",
              "    name.\n",
              "    The result of each function must be a unicode string.\n",
              "    List/tuple must be of length equal to the number of columns.\n",
              "float_format : one-parameter function, optional, default None\n",
              "    Formatter function to apply to columns&#x27; elements if they are\n",
              "    floats. This function must return a unicode string and will be\n",
              "    applied only to the non-``NaN`` elements, with ``NaN`` being\n",
              "    handled by ``na_rep``.\n",
              "\n",
              "    .. versionchanged:: 1.2.0\n",
              "\n",
              "sparsify : bool, optional, default True\n",
              "    Set to False for a DataFrame with a hierarchical index to print\n",
              "    every multiindex key at each row.\n",
              "index_names : bool, optional, default True\n",
              "    Prints the names of the indexes.\n",
              "justify : str, default None\n",
              "    How to justify the column labels. If None uses the option from\n",
              "    the print configuration (controlled by set_option), &#x27;right&#x27; out\n",
              "    of the box. Valid values are\n",
              "\n",
              "    * left\n",
              "    * right\n",
              "    * center\n",
              "    * justify\n",
              "    * justify-all\n",
              "    * start\n",
              "    * end\n",
              "    * inherit\n",
              "    * match-parent\n",
              "    * initial\n",
              "    * unset.\n",
              "max_rows : int, optional\n",
              "    Maximum number of rows to display in the console.\n",
              "max_cols : int, optional\n",
              "    Maximum number of columns to display in the console.\n",
              "show_dimensions : bool, default False\n",
              "    Display DataFrame dimensions (number of rows by number of columns).\n",
              "decimal : str, default &#x27;.&#x27;\n",
              "    Character recognized as decimal separator, e.g. &#x27;,&#x27; in Europe.\n",
              "\n",
              "line_width : int, optional\n",
              "    Width to wrap a line in characters.\n",
              "min_rows : int, optional\n",
              "    The number of rows to display in the console in a truncated repr\n",
              "    (when number of rows is above `max_rows`).\n",
              "max_colwidth : int, optional\n",
              "    Max width to truncate each column in characters. By default, no limit.\n",
              "encoding : str, default &quot;utf-8&quot;\n",
              "    Set character encoding.\n",
              "\n",
              "Returns\n",
              "-------\n",
              "str or None\n",
              "    If buf is None, returns the result as a string. Otherwise returns\n",
              "    None.\n",
              "\n",
              "See Also\n",
              "--------\n",
              "to_html : Convert DataFrame to HTML.\n",
              "\n",
              "Examples\n",
              "--------\n",
              "&gt;&gt;&gt; d = {&#x27;col1&#x27;: [1, 2, 3], &#x27;col2&#x27;: [4, 5, 6]}\n",
              "&gt;&gt;&gt; df = pd.DataFrame(d)\n",
              "&gt;&gt;&gt; print(df.to_string())\n",
              "   col1  col2\n",
              "0     1     4\n",
              "1     2     5\n",
              "2     3     6</pre>\n",
              "      <script>\n",
              "      if (google.colab.kernel.accessAllowed && google.colab.files && google.colab.files.view) {\n",
              "        for (const element of document.querySelectorAll('.filepath')) {\n",
              "          element.style.display = 'block'\n",
              "          element.onclick = (event) => {\n",
              "            event.preventDefault();\n",
              "            event.stopPropagation();\n",
              "            google.colab.files.view(element.textContent, 1190);\n",
              "          };\n",
              "        }\n",
              "      }\n",
              "      for (const element of document.querySelectorAll('.function-repr-contents')) {\n",
              "        element.onclick = (event) => {\n",
              "          event.preventDefault();\n",
              "          event.stopPropagation();\n",
              "          element.classList.toggle('function-repr-contents-collapsed');\n",
              "        };\n",
              "      }\n",
              "      </script>\n",
              "      </div>"
            ]
          },
          "metadata": {},
          "execution_count": 68
        }
      ]
    },
    {
      "cell_type": "markdown",
      "source": [
        "Web Scraping Popular Books on Amazon\n",
        "\n",
        "This is a simple web scraper using BeautifulSoup to extract data on popular top-selling books from Amazon. It utilizes requests to make the HTTP request.\n",
        "\n",
        "The collected data was cleaned and organized neatly using pandas.\n",
        "\n",
        "Finally, the cleaned data was written to a CSV file using the CSV library."
      ],
      "metadata": {
        "id": "p7bmFPLhJNFX"
      }
    }
  ]
}